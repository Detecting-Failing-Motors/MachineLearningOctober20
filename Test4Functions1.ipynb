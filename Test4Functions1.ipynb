{
 "cells": [
  {
   "cell_type": "code",
   "execution_count": 1,
   "metadata": {},
   "outputs": [],
   "source": [
    "def UserInputs2WorkingForm(n,N,Bd,Pd,phi,SampleFrequency,FileOfInterest,HomeDirectory,directory,TrainingDataFile):\n",
    "    x = {\n",
    "        'n': n,\n",
    "        'N': N,\n",
    "        'Bd': Bd,\n",
    "        'Pd': Pd,\n",
    "        'Phi': phi,\n",
    "        'Sampling Frequency': SampleFrequency,\n",
    "        'File of Interest': FileOfInterest,\n",
    "        'HomeDirectory': HomeDirectory,\n",
    "        'Working Directory': directory,\n",
    "        'TrainingFileName': TrainingDataFile\n",
    "    }\n",
    "    return x"
   ]
  },
  {
   "cell_type": "code",
   "execution_count": 2,
   "metadata": {},
   "outputs": [],
   "source": [
    "def GetTrainingData(UserInputs):\n",
    "    for file in UserInputs['Working Directory']:\n",
    "        if file == UserInputs['TrainingFileName']:\n",
    "            dataset = pd.read_csv(file,header = 0,index_col = 0)\n",
    "\n",
    "    X = dataset.values[:,1:(dataset.shape[1]-1)]\n",
    "    Y = dataset.values[:,0]\n",
    "    validation_size = 0.20\n",
    "    seed = 6\n",
    "    X_train, X_test, Y_train, Y_test = model_selection.train_test_split(X, Y, test_size=validation_size, random_state=seed) \n",
    "    \n",
    "    return X_train, X_test, Y_train, Y_test"
   ]
  },
  {
   "cell_type": "code",
   "execution_count": 3,
   "metadata": {},
   "outputs": [],
   "source": [
    "import os\n",
    "import numpy as np\n",
    "import pandas as pd\n",
    "from sklearn import model_selection\n",
    "from sklearn.ensemble import RandomForestClassifier\n",
    "from sklearn.metrics import classification_report\n",
    "from sklearn.metrics import confusion_matrix\n",
    "from sklearn.metrics import accuracy_score\n",
    "\n",
    "#BEGIN HARDCODING OF GUI INFO\n",
    "n = 2000 / 60\n",
    "N = 16\n",
    "Bd = 0.331*254\n",
    "Pd = 2.815*254\n",
    "phi = 15.17 * np.pi / 180\n",
    "SampleFrequency = 20000\n",
    "FileOfInterest = '2003.10.22.12.06.24'\n",
    "HomeDirectory = os.getcwd()\n",
    "os.chdir(HomeDirectory)\n",
    "directory = os.listdir(HomeDirectory)\n",
    "TrainingDataFile = \"DELETE.csv\"\n",
    "#END OF HARDCODING OF GUI INFO\n",
    "\n",
    "\n"
   ]
  },
  {
   "cell_type": "code",
   "execution_count": 4,
   "metadata": {},
   "outputs": [],
   "source": [
    "def TrainModel(X_train,Y_train):\n",
    "    classifier = RandomForestClassifier(n_estimators=1000)\n",
    "    classifier = classifier.fit(X_train, Y_train)\n",
    "    return classifier"
   ]
  },
  {
   "cell_type": "code",
   "execution_count": 5,
   "metadata": {},
   "outputs": [],
   "source": [
    "def PredictModel(classifier,X_test):\n",
    "    Y_test_pred = classifier.predict(X_test)\n",
    "    return Y_test_pred"
   ]
  },
  {
   "cell_type": "code",
   "execution_count": 6,
   "metadata": {},
   "outputs": [],
   "source": [
    "def GetData(UserInput):\n",
    "    data = pd.read_table(UserInput['File of Interest'],header = None)\n",
    "    data.columns = ['b1x','b1y','b2x','b2y','b3x','b3y','b4x','b4y']\n",
    "    return np.transpose(data.values[:,0])"
   ]
  },
  {
   "cell_type": "code",
   "execution_count": 7,
   "metadata": {},
   "outputs": [
    {
     "name": "stdout",
     "output_type": "stream",
     "text": [
      "[0.0000000e+00 1.0240000e+00 2.0480000e+00 ... 2.0968448e+04 2.0969472e+04\n",
      " 2.0970496e+04]\n",
      "[ 1.34774633e+02  6.66845395e+01 -1.52599389e+00 ... -1.15808611e-02\n",
      " -2.02875287e-03  3.81786751e-03]\n"
     ]
    }
   ],
   "source": [
    "from Functions import getCompleteDataFrame\n",
    "from Functions import getGraphs\n",
    "from Functions import getTESTDataFrame\n",
    "\n",
    "UserInput = UserInputs2WorkingForm(n,N,Bd,Pd,phi,SampleFrequency,FileOfInterest,HomeDirectory,directory,TrainingDataFile)\n",
    "X_train, X_test, Y_train, Y_test = GetTrainingData(UserInput)\n",
    "classifier = TrainModel(X_train, Y_train)\n",
    "Y_test_pred = PredictModel(classifier,X_test)\n",
    "b1x = GetData(UserInput)\n",
    "\n",
    "NumberOfSamples = len(b1x)\n",
    "dt = 1/SampleFrequency\n",
    "Tmax = dt*NumberOfSamples\n",
    "TEST = getTESTDataFrame(b1x,Tmax,NumberOfSamples,SampleFrequency,n,N,Bd,Pd,phi)\n",
    "TEST1 = TEST.values[:,0:(TEST.shape[1]-1)]\n",
    "OUTCOME = PredictModel(classifier,TEST1)\n",
    "file = 3\n",
    "figs = getGraphs(b1x,Tmax,NumberOfSamples,SampleFrequency,n,N,Bd,Pd,phi,file,1)"
   ]
  },
  {
   "cell_type": "code",
   "execution_count": 8,
   "metadata": {},
   "outputs": [
    {
     "name": "stdout",
     "output_type": "stream",
     "text": [
      "[-0.022 -0.105 -0.183 ... -0.193 -0.115 -0.042]\n",
      "['Early']\n",
      "Accuracy on training set is : 1.0\n",
      "Accuracy on test set is : 0.9281159420289855\n",
      "                         precision    recall  f1-score   support\n",
      "\n",
      "                  Early       0.98      0.92      0.95       276\n",
      "       Imminent Failure       1.00      0.75      0.86        20\n",
      "     Inner Race Failure       0.90      1.00      0.95         9\n",
      "                 Normal       0.91      0.97      0.94       879\n",
      "Rolling Element Failure       0.98      0.94      0.96        63\n",
      "        Stage 2 Failure       0.94      0.98      0.96        64\n",
      "                Suspect       0.93      0.85      0.89       414\n",
      "\n",
      "            avg / total       0.93      0.93      0.93      1725\n",
      "\n"
     ]
    }
   ],
   "source": [
    "print(b1x)\n",
    "print(OUTCOME)\n",
    "print(\"Accuracy on training set is : {}\".format(classifier.score(X_train, Y_train)))\n",
    "print(\"Accuracy on test set is : {}\".format(classifier.score(X_test, Y_test)))\n",
    "print(classification_report(Y_test, Y_test_pred))"
   ]
  },
  {
   "cell_type": "code",
   "execution_count": null,
   "metadata": {},
   "outputs": [],
   "source": []
  }
 ],
 "metadata": {
  "kernelspec": {
   "display_name": "Python 3",
   "language": "python",
   "name": "python3"
  },
  "language_info": {
   "codemirror_mode": {
    "name": "ipython",
    "version": 3
   },
   "file_extension": ".py",
   "mimetype": "text/x-python",
   "name": "python",
   "nbconvert_exporter": "python",
   "pygments_lexer": "ipython3",
   "version": "3.6.5"
  }
 },
 "nbformat": 4,
 "nbformat_minor": 2
}
